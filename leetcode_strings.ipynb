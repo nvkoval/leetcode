{
 "cells": [
  {
   "cell_type": "markdown",
   "metadata": {},
   "source": [
    "## Reverse String\n",
    "\n",
    "https://leetcode.com/explore/interview/card/top-interview-questions-easy/127/strings/879/\n",
    "\n",
    "Write a function that reverses a string. The input string is given as an array of characters `s`.\n",
    "\n",
    "You must do this by modifying the input array in-place with `O(1)` extra memory."
   ]
  },
  {
   "cell_type": "code",
   "execution_count": 67,
   "metadata": {},
   "outputs": [],
   "source": [
    "def reverseString(s: list[str]) -> None:\n",
    "    s.reverse()\n",
    "    return s"
   ]
  },
  {
   "cell_type": "code",
   "execution_count": 68,
   "metadata": {},
   "outputs": [],
   "source": [
    "def test_reverseString():\n",
    "    assert reverseString(['1', '2', '3', '4', '5']) == ['5', '4', '3', '2', '1']\n",
    "    assert reverseString(['h', 'e', 'l', 'l', 'o']) == ['o', 'l', 'l', 'e', 'h']\n",
    "    assert reverseString(['H', 'a', 'n', 'n', 'a', 'h']) == ['h', 'a', 'n', 'n', 'a', 'H']\n",
    "    assert reverseString(['']) == ['']\n",
    "    assert reverseString(['G']) == ['G']\n",
    "\n",
    "\n",
    "test_reverseString()"
   ]
  },
  {
   "cell_type": "markdown",
   "metadata": {},
   "source": [
    "Runtime: 195 ms (Your runtime beats 61.64 % of python3 submissions)\n",
    "\n",
    "Memory Usage: 20.8 MB (Your memory usage beats 21.75 % of python3 submissions)"
   ]
  },
  {
   "cell_type": "code",
   "execution_count": 11,
   "metadata": {},
   "outputs": [],
   "source": [
    "def reverseString(s: list[str]) -> None:\n",
    "    i = 0\n",
    "    j = len(s) - 1\n",
    "    while i < j:\n",
    "        s[i], s[j] = s[j], s[i]\n",
    "        i += 1\n",
    "        j -= 1"
   ]
  },
  {
   "cell_type": "code",
   "execution_count": 66,
   "metadata": {},
   "outputs": [],
   "source": [
    "reverseString(['1', '2', '3', '4', '5'])\n"
   ]
  },
  {
   "cell_type": "markdown",
   "metadata": {},
   "source": [
    "Runtime: 198 ms (Your runtime beats 51.24 % of python3 submissions)\n",
    "\n",
    "Memory Usage: 20.8 MB (Your memory usage beats 52.22 % of python3 submissions)"
   ]
  },
  {
   "cell_type": "code",
   "execution_count": 23,
   "metadata": {},
   "outputs": [],
   "source": [
    "def reverseString(s: list[str]) -> None:\n",
    "        s[:] = s[::-1]"
   ]
  },
  {
   "cell_type": "code",
   "execution_count": 25,
   "metadata": {},
   "outputs": [
    {
     "data": {
      "text/plain": [
       "['5', '4', '3', '2', '1']"
      ]
     },
     "execution_count": 25,
     "metadata": {},
     "output_type": "execute_result"
    }
   ],
   "source": [
    "reverseString(s)\n",
    "s"
   ]
  },
  {
   "cell_type": "markdown",
   "metadata": {},
   "source": [
    "Runtime: 188 ms (Your runtime beats 85.69 % of python3 submissions)\n",
    "\n",
    "Memory Usage: 21 MB (Your memory usage beats 9.81 % of python3 submissions)"
   ]
  },
  {
   "cell_type": "markdown",
   "metadata": {},
   "source": [
    "## Reverse Integer\n",
    "\n",
    "https://leetcode.com/explore/interview/card/top-interview-questions-easy/127/strings/880/\n",
    "\n",
    "Given a signed 32-bit integer `x`, return `x` *with its digits reversed*. If reversing `x` causes the value to go outside the signed 32-bit integer range $[-2^{31}, 2^{31} - 1]$, then return `0`."
   ]
  },
  {
   "cell_type": "code",
   "execution_count": 41,
   "metadata": {},
   "outputs": [],
   "source": [
    "def reverse(x: int) -> int:\n",
    "    num_reverse = 0\n",
    "    i = 0\n",
    "    if x >= 0: \n",
    "        for digit in str(x):\n",
    "            digit = int(digit)\n",
    "            num_reverse += digit * 10 ** i \n",
    "            i += 1\n",
    "        return num_reverse if -2**31 <= num_reverse <= 2**31 - 1 else 0\n",
    "    elif x < 0:\n",
    "        for digit in str(x)[1:]:\n",
    "            digit = int(digit)\n",
    "            num_reverse += digit * 10 ** i \n",
    "            i += 1\n",
    "        return -num_reverse if -2**31 <= num_reverse <= 2**31 - 1 else 0"
   ]
  },
  {
   "cell_type": "code",
   "execution_count": 44,
   "metadata": {},
   "outputs": [],
   "source": [
    "def test_reverse():\n",
    "    assert reverse(123) == 321\n",
    "    assert reverse(-123) == -321\n",
    "    assert reverse(120) == 21\n",
    "    assert reverse(5456124654) == 0\n",
    "    assert reverse(-2648921315) == 0\n",
    "\n",
    "test_reverse()"
   ]
  },
  {
   "cell_type": "markdown",
   "metadata": {},
   "source": [
    "Runtime: 47 ms (Your runtime beats 27.36 % of python3 submissions)\n",
    "\n",
    "Memory Usage: 16.3 MB (Your memory usage beats 64.74 % of python3 submissions)"
   ]
  },
  {
   "cell_type": "markdown",
   "metadata": {},
   "source": [
    "## First Unique Character in a String\n",
    "\n",
    "https://leetcode.com/explore/interview/card/top-interview-questions-easy/127/strings/881/\n",
    "\n",
    "Given a string `s`, *find the first non-repeating character in it and return its index*. If it does not exist, return `-1`."
   ]
  },
  {
   "cell_type": "code",
   "execution_count": 39,
   "metadata": {},
   "outputs": [],
   "source": [
    "def firstUniqChar(s: str) -> int:\n",
    "    for idx, x in enumerate(s):\n",
    "        if s.count(x) == 1:\n",
    "            return idx\n",
    "    return -1"
   ]
  },
  {
   "cell_type": "code",
   "execution_count": 40,
   "metadata": {},
   "outputs": [],
   "source": [
    "def test_firstUniqChar():\n",
    "    assert firstUniqChar('loveleetcodet') == 2\n",
    "    assert firstUniqChar('leetcode') == 0\n",
    "    assert firstUniqChar('aabb') == -1\n",
    "\n",
    "\n",
    "test_firstUniqChar()"
   ]
  },
  {
   "cell_type": "markdown",
   "metadata": {},
   "source": [
    "Runtime: 5022 ms (Your runtime beats 11.30 % of python3 submissions)\n",
    "\n",
    "Memory Usage: 16.6 MB (Your memory usage beats 11.01 % of python3 submissions)"
   ]
  },
  {
   "cell_type": "markdown",
   "metadata": {},
   "source": [
    "## Valid Anagram\n",
    "\n",
    "https://leetcode.com/explore/interview/card/top-interview-questions-easy/127/strings/882/\n",
    "\n",
    "Given two strings `s` and `t`, return `true` *if* `t` *is an anagram of* `s`, *and* `false` *otherwise*."
   ]
  },
  {
   "cell_type": "code",
   "execution_count": 34,
   "metadata": {},
   "outputs": [],
   "source": [
    "def isAnagram(s: str, t: str) -> bool:\n",
    "    if len(s) != len(t):\n",
    "        return False\n",
    "    for i in set(s):\n",
    "        if s.count(i) != t.count(i):\n",
    "            return False\n",
    "    return True"
   ]
  },
  {
   "cell_type": "code",
   "execution_count": 36,
   "metadata": {},
   "outputs": [],
   "source": [
    "def test_isAnagram():\n",
    "    assert isAnagram('rat', 'car') == False\n",
    "    assert isAnagram('anagram', 'nagaram') == True\n",
    "\n",
    "\n",
    "test_isAnagram()"
   ]
  },
  {
   "cell_type": "markdown",
   "metadata": {},
   "source": [
    "Runtime: 36 ms (Your runtime beats 99.21 % of python3 submissions)\n",
    "\n",
    "Memory Usage: 16.7 MB (Your memory usage beats 98.71 % of python3 submissions)"
   ]
  },
  {
   "cell_type": "markdown",
   "metadata": {},
   "source": [
    "## Valid Palindrome\n",
    "\n",
    "https://leetcode.com/explore/interview/card/top-interview-questions-easy/127/strings/883/\n",
    "\n",
    "Given a string `s`, return `true` *if it is a* **palindrome**, *or* `false` *otherwise*."
   ]
  },
  {
   "cell_type": "code",
   "execution_count": 19,
   "metadata": {},
   "outputs": [],
   "source": [
    "import re"
   ]
  },
  {
   "cell_type": "code",
   "execution_count": 20,
   "metadata": {},
   "outputs": [],
   "source": [
    "def isPalindrome(s: str) -> bool:\n",
    "    s = re.sub(r'[\\W_]+', '', s.lower())\n",
    "    i = 0\n",
    "    j = len(s) - 1\n",
    "    while i < j:\n",
    "        if s[i] != s[j]:\n",
    "            return False\n",
    "        i += 1\n",
    "        j -= 1\n",
    "    return True"
   ]
  },
  {
   "cell_type": "code",
   "execution_count": 26,
   "metadata": {},
   "outputs": [],
   "source": [
    "def test_isPalindrome():\n",
    "    assert isPalindrome(\"A man, a plan, a canal: Panama\") == True\n",
    "    assert isPalindrome(\"race a car\") == False\n",
    "    assert isPalindrome(\" \") == True\n",
    "\n",
    "\n",
    "test_isPalindrome()"
   ]
  },
  {
   "cell_type": "markdown",
   "metadata": {},
   "source": [
    "Runtime: 47 ms (Your runtime beats 78.84 % of python3 submissions)\n",
    "\n",
    "Memory Usage: 17.9 MB (Your memory usage beats 27.79 % of python3 submissions)"
   ]
  },
  {
   "cell_type": "code",
   "execution_count": 27,
   "metadata": {},
   "outputs": [],
   "source": [
    "def isPalindrome(s: str) -> bool:\n",
    "    s = ''.join([char for char in s.lower() if char.isalnum()])\n",
    "    return s == s[::-1]"
   ]
  },
  {
   "cell_type": "code",
   "execution_count": 28,
   "metadata": {},
   "outputs": [],
   "source": [
    "test_isPalindrome()"
   ]
  },
  {
   "cell_type": "markdown",
   "metadata": {},
   "source": [
    "Runtime: 56 ms (Your runtime beats 55.32 % of python3 submissions)\n",
    "\n",
    "Memory Usage: 17.2 MB (Your memory usage beats 42.46 % of python3 submissions)"
   ]
  },
  {
   "cell_type": "code",
   "execution_count": 29,
   "metadata": {},
   "outputs": [],
   "source": [
    "def isPalindrome(s: str) -> bool:\n",
    "    s = re.sub(r'[\\W_]+', '', s.lower())\n",
    "    return s == s[::-1]"
   ]
  },
  {
   "cell_type": "code",
   "execution_count": 30,
   "metadata": {},
   "outputs": [],
   "source": [
    "test_isPalindrome()"
   ]
  },
  {
   "cell_type": "markdown",
   "metadata": {},
   "source": [
    "Runtime: 38 ms (Your runtime beats 97.39 % of python3 submissions)\n",
    "\n",
    "Memory Usage: 17.6 MB (Your memory usage beats 35.02 % of python3 submissions)"
   ]
  },
  {
   "cell_type": "markdown",
   "metadata": {},
   "source": [
    "## String to Integer (atoi)\n",
    "\n",
    "https://leetcode.com/explore/interview/card/top-interview-questions-easy/127/strings/884/\n",
    "\n",
    "Implement the `myAtoi(string s)` function, which converts a string to a 32-bit signed integer (similar to C/C++'s `atoi` function)."
   ]
  },
  {
   "cell_type": "code",
   "execution_count": 11,
   "metadata": {},
   "outputs": [],
   "source": [
    "def myAtoi(s: str) -> int:\n",
    "    # Read in and ignore any leading whitespace\n",
    "    s = s.lstrip()\n",
    "\n",
    "    # Check if the next character (if not already at the end of the string) is '-' or '+'.\n",
    "    # Read this character in if it is either.\n",
    "    # This determines if the final result is negative or positive respectively.\n",
    "    # Assume the result is positive if neither is present.\n",
    "    s_sign = 0\n",
    "    if len(s) > 0:\n",
    "        if s[0] == '-':\n",
    "            s_sign = -1\n",
    "            s = s[1:]\n",
    "        elif s[0] == '+':\n",
    "            s_sign = 1\n",
    "            s = s[1:]\n",
    "        elif s[0].isdigit():\n",
    "            s_sign = 1\n",
    "\n",
    "    # Read in next the characters until the next non-digit character or the end of the input\n",
    "    # is reached. The rest of the string is ignored\n",
    "    i = 0\n",
    "    temp_s = 0\n",
    "    while i < len(s) and s[i].isdigit():\n",
    "        temp_s = s[:i+1]\n",
    "        i += 1\n",
    "    s = temp_s\n",
    "\n",
    "    # Convert these digits into an integer (i.e. \"123\" -> 123, \"0032\" -> 32).\n",
    "    # If no digits were read, then the integer is 0.\n",
    "    # Change the sign as necessary (from step 2).\n",
    "    s = int(s)\n",
    "    s = s_sign * s\n",
    "\n",
    "    # If the integer is out of the 32-bit signed integer range [-2^31, 2^31 - 1],\n",
    "    # then clamp the integer so that it remains in the range.\n",
    "    # Specifically, integers less than -2^31 should be clamped to -2^31,\n",
    "    # and integers greater than 2^31 - 1 should be clamped to 2^31 - 1.\n",
    "    if s < -2**31:\n",
    "        s = -2**31\n",
    "    elif s > 2**31 - 1:\n",
    "        s = 2**31 - 1\n",
    "    \n",
    "    # Return the integer as the final result.\n",
    "    return s"
   ]
  },
  {
   "cell_type": "code",
   "execution_count": 13,
   "metadata": {},
   "outputs": [],
   "source": [
    "def test_myAtoi():\n",
    "    assert myAtoi('42') == 42\n",
    "    assert myAtoi('    -42   ') == -42\n",
    "    assert myAtoi('  4193549846465 with words') == 2147483647\n",
    "    assert myAtoi('words and 987') == 0\n",
    "    assert myAtoi('-91283472332') == -2147483648\n",
    "    assert myAtoi('') == 0 \n",
    "\n",
    "\n",
    "test_myAtoi()"
   ]
  },
  {
   "cell_type": "markdown",
   "metadata": {},
   "source": [
    "Runtime: 44 ms (Your runtime beats 55.56 % of python3 submissions)\n",
    "\n",
    "Memory Usage: 16.1 MB (Your memory usage beats 95.42 % of python3 submissions)"
   ]
  },
  {
   "cell_type": "markdown",
   "metadata": {},
   "source": [
    "## Implement strStr()\n",
    "\n",
    "https://leetcode.com/explore/interview/card/top-interview-questions-easy/127/strings/885/\n",
    "\n",
    "Given two strings `needle` and `haystack`, return the index of the first occurrence of `needle` in `haystack`, or -1 if `needle` is not part of `haystack`"
   ]
  },
  {
   "cell_type": "code",
   "execution_count": 4,
   "metadata": {},
   "outputs": [],
   "source": [
    "def strStr(haystack: str, needle: str) -> int:\n",
    "    if needle in haystack:\n",
    "        return haystack.index(needle)\n",
    "    else:\n",
    "        return -1"
   ]
  },
  {
   "cell_type": "code",
   "execution_count": 6,
   "metadata": {},
   "outputs": [],
   "source": [
    "def test_strStr():\n",
    "    assert strStr(\"sadbutsad\", \"sad\") == 0\n",
    "    assert strStr(\"dog\",\"race\") == -1\n",
    "    assert strStr(\"catdog\", \"dog\") == 3\n",
    "\n",
    "\n",
    "test_strStr()"
   ]
  },
  {
   "cell_type": "markdown",
   "metadata": {},
   "source": [
    "Runtime: 31 ms (Your runtime beats 93.52 % of python3 submissions)\n",
    "\n",
    "Memory Usage: 16.2 MB (Your memory usage beats 66.48 % of python3 submissions)"
   ]
  },
  {
   "cell_type": "code",
   "execution_count": 31,
   "metadata": {},
   "outputs": [],
   "source": [
    "def strStr(haystack: str, needle: str) -> int:\n",
    "    return haystack.find(needle)"
   ]
  },
  {
   "cell_type": "code",
   "execution_count": 32,
   "metadata": {},
   "outputs": [],
   "source": [
    "test_strStr()"
   ]
  },
  {
   "cell_type": "markdown",
   "metadata": {},
   "source": [
    "Runtime: 34 ms (Your runtime beats 84.84 % of python3 submissions)\n",
    "\n",
    "Memory Usage: 16.2 MB (Your memory usage beats 91.99 % of python3 submissions)"
   ]
  },
  {
   "cell_type": "markdown",
   "metadata": {},
   "source": [
    "## Longest Common Prefix\n",
    "\n",
    "https://leetcode.com/explore/interview/card/top-interview-questions-easy/127/strings/887/\n",
    "\n",
    "Write a function to find the longest common prefix string amongst an array of strings.\n",
    "\n",
    "If there is no common prefix, return an empty string `\"\"`."
   ]
  },
  {
   "cell_type": "code",
   "execution_count": 37,
   "metadata": {},
   "outputs": [],
   "source": [
    "def longestCommonPrefix(strs: list[str]) -> str:\n",
    "    list_prefix = [\"\"]\n",
    "    min_len = min([len(word) for word in strs])\n",
    "    for i in range(min_len):\n",
    "        list_prefix = ([word[:i+1] for word in strs])\n",
    "        if len(set(list_prefix)) != 1:\n",
    "            list_prefix = ([word[:i] for word in strs])\n",
    "            break\n",
    "    return list_prefix[0]"
   ]
  },
  {
   "cell_type": "code",
   "execution_count": 38,
   "metadata": {},
   "outputs": [],
   "source": [
    "def test_longestCommonPrefix():\n",
    "    assert longestCommonPrefix([\"flower\",\"flow\",\"flight\"]) == \"fl\"\n",
    "    assert longestCommonPrefix([\"dog\",\"racecar\",\"car\"]) == \"\"\n",
    "    assert longestCommonPrefix([\"\"]) == \"\"\n",
    "\n",
    "\n",
    "test_longestCommonPrefix()"
   ]
  },
  {
   "cell_type": "code",
   "execution_count": 57,
   "metadata": {},
   "outputs": [
    {
     "data": {
      "text/plain": [
       "'fl'"
      ]
     },
     "execution_count": 57,
     "metadata": {},
     "output_type": "execute_result"
    }
   ],
   "source": [
    "strs = [\"flower\",\"flow\",\"flight\"]\n",
    "\n",
    "longestCommonPrefix(strs)"
   ]
  },
  {
   "cell_type": "markdown",
   "metadata": {},
   "source": [
    "Runtime: 47 ms (Your runtime beats 33.77 % of python3 submissions)\n",
    "\n",
    "Memory Usage: 16.3 MB (Your memory usage beats 66.56 % of python3 submissions)"
   ]
  }
 ],
 "metadata": {
  "kernelspec": {
   "display_name": "projector",
   "language": "python",
   "name": "python3"
  },
  "language_info": {
   "codemirror_mode": {
    "name": "ipython",
    "version": 3
   },
   "file_extension": ".py",
   "mimetype": "text/x-python",
   "name": "python",
   "nbconvert_exporter": "python",
   "pygments_lexer": "ipython3",
   "version": "3.10.10"
  },
  "orig_nbformat": 4
 },
 "nbformat": 4,
 "nbformat_minor": 2
}
